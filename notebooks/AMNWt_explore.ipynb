{
 "cells": [
  {
   "cell_type": "markdown",
   "metadata": {},
   "source": [
    "## AMNWt study\n",
    "We study AMNWt model. We explicit and show the weights, give another way to compute the result of AMNWt. We also study the meaning of timestep parameter.\n",
    "\n",
    "### Load the data, build and train the AMNWt model"
   ]
  },
  {
   "cell_type": "code",
   "execution_count": 2,
   "metadata": {},
   "outputs": [
    {
     "name": "stdout",
     "output_type": "stream",
     "text": [
      "number of metabolites:  1080\n",
      "filtered measurements size:  1\n",
      "dataset file: ../data/Dataset/iML1515_EXP_UB.npz\n",
      "model type: AMNWt\n",
      "model medium bound: UB\n",
      "timestep: 4\n",
      "training set size (110, 38) (110, 1)\n",
      "nbr hidden layer: 1\n",
      "hidden layer size: 500\n",
      "activation function: relu\n",
      "R2 : 0.8338350604041228\n",
      "Q2 : 0.7002150438770982\n"
     ]
    }
   ],
   "source": [
    "import tensorflow as tf\n",
    "from amn.model import AMNWtModel\n",
    "from amn.model import LinearModel\n",
    "import numpy as np\n",
    "\n",
    "data_dir = \"../data\"\n",
    "seed = 10\n",
    "\n",
    "# np.random.seed(seed=seed)  \n",
    "tf.random.set_seed(seed)\n",
    "\n",
    "dataset_file = \"/Dataset/iML1515_EXP_UB.npz\"\n",
    "objective = [\"BIOMASS_Ec_iML1515_core_75p37M\"]\n",
    "epochs = 300\n",
    "batch_size = 7 \n",
    "uptake_max_index=None\n",
    "\n",
    "model = AMNWtModel(dataset_file=data_dir + dataset_file, \n",
    "                   objective=objective,\n",
    "                   timestep=4,\n",
    "                   hidden_dim=500,\n",
    "                   verbose=True,\n",
    "                   uptake_max_index = uptake_max_index)\n",
    "model.printout()\n",
    "\n",
    "# Preprocessing\n",
    "from amn.tools import MaxScaler\n",
    "scaler= MaxScaler()\n",
    "# model.train_test_split(test_size=0.1, random_state=seed)\n",
    "model.train_test_split(test_size=0.1, random_state=seed)\n",
    "model.preprocess(scaler)\n",
    "model.preprocessing_for_specific_model()\n",
    "\n",
    "\n",
    "AMNWt_model = model.build_model()\n",
    "history = AMNWt_model.fit(model.X_train, model.Y_train, epochs=epochs, batch_size=batch_size, verbose=0)\n",
    "\n",
    "print(\"R2 :\", model.R2(model.Y_train, AMNWt_model.predict(model.X_train)))\n",
    "print(\"Q2 :\", model.R2(model.Y_test, AMNWt_model.predict(model.X_test)))"
   ]
  },
  {
   "cell_type": "code",
   "execution_count": 10,
   "metadata": {},
   "outputs": [
    {
     "name": "stdout",
     "output_type": "stream",
     "text": [
      "Number of lines in stoichiometry matrix : 1080\n",
      "Number of null lines in stoichiometry matrix : 591\n",
      "Number of non null lines in stoichiometry matrix : 489\n",
      "Rank of S : 477\n",
      "Number of flux : 543\n",
      "Dimension of the space SV=0 : 66\n"
     ]
    }
   ],
   "source": [
    "# influence of S on the model\n",
    "null_row = []\n",
    "\n",
    "for i in range(len(model.S)):\n",
    "    null = True\n",
    "    for j in range(model.S.shape[1]):\n",
    "        if model.S[i][j].sum()!=0:\n",
    "            null = False\n",
    "    if null:\n",
    "        null_row.append(i)\n",
    "\n",
    "print(\"Number of lines in stoichiometry matrix :\",model.S.shape[0]) \n",
    "print(\"Number of null lines in stoichiometry matrix :\",len(null_row)) \n",
    "print(\"Number of non null lines in stoichiometry matrix :\",model.S.shape[0] -len(null_row)) \n",
    "print(\"Rank of S :\", np.linalg.matrix_rank(model.S))\n",
    "print(\"Number of flux :\",model.S.shape[1])\n",
    "print(\"Dimension of the space SV=0 :\", model.S.shape[1] - np.linalg.matrix_rank(model.S))"
   ]
  },
  {
   "cell_type": "markdown",
   "metadata": {},
   "source": [
    "Some lines of the stoichiometry matrix are null"
   ]
  },
  {
   "cell_type": "code",
   "execution_count": 11,
   "metadata": {},
   "outputs": [
    {
     "data": {
      "text/plain": [
       "591"
      ]
     },
     "execution_count": 11,
     "metadata": {},
     "output_type": "execute_result"
    }
   ],
   "source": [
    "null_row = []\n",
    "\n",
    "for i in range(len(model.S)):\n",
    "    null = True\n",
    "    for j in range(model.S.shape[1]):\n",
    "        if model.S[i][j].sum()!=0:\n",
    "            null = False\n",
    "    if null:\n",
    "        null_row.append(i)\n",
    "\n",
    "len(null_row) #591"
   ]
  },
  {
   "cell_type": "code",
   "execution_count": 12,
   "metadata": {},
   "outputs": [
    {
     "name": "stdout",
     "output_type": "stream",
     "text": [
      "Model: \"model_8\"\n",
      "__________________________________________________________________________________________________\n",
      "Layer (type)                    Output Shape         Param #     Connected to                     \n",
      "==================================================================================================\n",
      "input_9 (InputLayer)            [(None, 38)]         0                                            \n",
      "__________________________________________________________________________________________________\n",
      "repeat_vector_8 (RepeatVector)  (None, 6, 38)        0           input_9[0][0]                    \n",
      "__________________________________________________________________________________________________\n",
      "rnn_8 (RNN)                     (None, 543)          625021      repeat_vector_8[0][0]            \n",
      "__________________________________________________________________________________________________\n",
      "concatenate_8 (Concatenate)     (None, 581)          0           rnn_8[0][0]                      \n",
      "                                                                 input_9[0][0]                    \n",
      "==================================================================================================\n",
      "Total params: 625,021\n",
      "Trainable params: 625,021\n",
      "Non-trainable params: 0\n",
      "__________________________________________________________________________________________________\n"
     ]
    }
   ],
   "source": [
    "AMNWt_model.summary()"
   ]
  },
  {
   "cell_type": "code",
   "execution_count": 19,
   "metadata": {},
   "outputs": [],
   "source": [
    "# Get weight of keras model\n",
    "for layer in AMNWt_model.layers: \n",
    "    if \"rnn\" in layer.get_config()[\"name\"]:\n",
    "        # print(layer.get_config())\n",
    "        W = layer.get_weights()\n",
    "\n",
    "W_h, W_i, b_i, W_r, b_r = W"
   ]
  },
  {
   "cell_type": "markdown",
   "metadata": {},
   "source": [
    "\n",
    "### Rewrite the AMNWt function as direct application"
   ]
  },
  {
   "cell_type": "code",
   "execution_count": 32,
   "metadata": {},
   "outputs": [
    {
     "name": "stdout",
     "output_type": "stream",
     "text": [
      "[ 0.46395171 -0.16887005  0.09137997  0.00086644 -0.08036842]\n",
      "[ 0.46395171 -0.16887005  0.09137997  0.00086644 -0.08036842]\n",
      "[ 0.46395171 -0.16887005  0.09137997  0.00086644 -0.08036842]\n",
      "[ 0.46395123 -0.16886988  0.09137996  0.00086644 -0.08036841]\n"
     ]
    }
   ],
   "source": [
    "# AMNWt is just affine transformation, we explicit the matrix\n",
    "C = np.matmul(W_h, W_i)\n",
    "A = np.matmul(np.transpose(model.V2M), np.transpose(np.multiply(model.M2V_norm,W_r)))\n",
    "\n",
    "def geometric_series_matrices(M,n):\n",
    "    res = 0\n",
    "    for i in range(n+1):\n",
    "        res+=np.linalg.matrix_power(M,i)\n",
    "    return res\n",
    "\n",
    "\n",
    "# Those two functions equal to AMNWt\n",
    "# Note that in AMNWt the initial vector in RNN object is set to zero by default !\n",
    "def AMNWt_recursive_function(V_in,n):\n",
    "    V_0 = np.matmul(np.matmul(V_in,C) +b_i, model.P_uptake)\n",
    "    V = np.zeros((model.S.shape[1],))\n",
    "    for i in range(n):\n",
    "        M = np.matmul(V,tf.transpose(model.V2M))\n",
    "        W = np.multiply(model.M2V_norm,W_r)\n",
    "        V = np.matmul(M,tf.transpose(W))\n",
    "        V = V + V_0 + b_r\n",
    "    return V\n",
    "\n",
    "def AMNWt_function(V_in,n):\n",
    "    V_0 = np.matmul(np.matmul(V_in,C) +b_i, model.P_uptake)\n",
    "    V = np.matmul((V_0+b_r),geometric_series_matrices(A,n-1))\n",
    "    return V\n",
    "\n",
    "M = np.matmul(np.matmul(C,model.P_uptake),\n",
    "              geometric_series_matrices(A,3))\n",
    "B = np.matmul(np.matmul(b_i, model.P_uptake)+b_r,\n",
    "                  geometric_series_matrices(A,3))\n",
    "\n",
    "def AMNWt_affine(V_in,n):\n",
    "    return np.matmul(V_in,M) +B\n",
    "\n",
    "\n",
    "print(AMNWt_recursive_function(model.X_test[0],4)[:5])\n",
    "print(AMNWt_function(model.X_test[0],4)[:5])\n",
    "print(AMNWt_affine(model.X_test[0],4)[:5])\n",
    "print(AMNWt_model.predict(model.X_test)[0][:model.S.shape[1]][:5])"
   ]
  },
  {
   "cell_type": "markdown",
   "metadata": {},
   "source": [
    "### Study the timestep parameter\n",
    "The AMNWt function depend strongly on the adjacency matrix of the matrix between flux vertices. Every weight on $W_r$ is non null then the matrix A have the same non-nul weight than the adjacency matrix. The matrix $(Id + A + A² +A^3)$ propagate the flux along the flux graph. Since $n=3$ seems to be the best solution, isn't it some unseen fluxes, too far from the output flux. \n",
    "\n",
    "We can directly find unused elements by getting $0$ of the output column of the matrix $(Id + A + A² +A^3)$. Among them some come from the input.\n"
   ]
  },
  {
   "cell_type": "code",
   "execution_count": 33,
   "metadata": {},
   "outputs": [
    {
     "name": "stdout",
     "output_type": "stream",
     "text": [
      "Reference flux indice : [424]\n",
      "Number of unused fluxes in AMNWt : 51\n",
      "Number of unused fluxes input : 19\n"
     ]
    }
   ],
   "source": [
    "# Index of reference flux\n",
    "print(\"Reference flux indice :\",[i for i in range(model.P_out.shape[1]) if model.P_out[:,i]==1])\n",
    "\n",
    "# Research for useless input fluxes using directly A\n",
    "# L = np.linalg.matrix_power(A,3)\n",
    "L = geometric_series_matrices(A,3)\n",
    "not_used_L = [i for i in range(len(L[:,424])) if L[i,424]==0]\n",
    "print(\"Number of unused fluxes in AMNWt :\",len(not_used_L))\n",
    "\n",
    "# Indices of input fluxes \n",
    "model.P_in.shape\n",
    "V_in = model.P_in.sum(axis=0)\n",
    "input_indices = [i for i in range(len(V_in)) if V_in[i]!=0]\n",
    "print(\"Number of unused fluxes input :\",len(list(set(not_used_L) & set(input_indices))))"
   ]
  },
  {
   "cell_type": "markdown",
   "metadata": {},
   "source": [
    "\n",
    "Elements too far from the output must belong to these unused element. To compare lets compute fluxes with existing path of different length. Definitively, element with no path smaller than 4 should be in the unused set."
   ]
  },
  {
   "cell_type": "code",
   "execution_count": 34,
   "metadata": {},
   "outputs": [],
   "source": [
    "# All element of Adj matrix are positive\n",
    "Adj = np.matmul(np.transpose(model.V2M), np.transpose(model.M2V))\n",
    "\n",
    "# Compute adj to different power (gives matrices of existence of different length path)\n",
    "max_power = 20\n",
    "Adj_power = [np.linalg.matrix_power(Adj,i) for i in range(max_power+1)]"
   ]
  },
  {
   "cell_type": "code",
   "execution_count": 35,
   "metadata": {},
   "outputs": [
    {
     "data": {
      "text/html": [
       "<div>\n",
       "<style scoped>\n",
       "    .dataframe tbody tr th:only-of-type {\n",
       "        vertical-align: middle;\n",
       "    }\n",
       "\n",
       "    .dataframe tbody tr th {\n",
       "        vertical-align: top;\n",
       "    }\n",
       "\n",
       "    .dataframe thead th {\n",
       "        text-align: right;\n",
       "    }\n",
       "</style>\n",
       "<table border=\"1\" class=\"dataframe\">\n",
       "  <thead>\n",
       "    <tr style=\"text-align: right;\">\n",
       "      <th></th>\n",
       "      <th>length</th>\n",
       "      <th>reached_fluxes</th>\n",
       "      <th>reached_input</th>\n",
       "    </tr>\n",
       "  </thead>\n",
       "  <tbody>\n",
       "    <tr>\n",
       "      <th>0</th>\n",
       "      <td>0</td>\n",
       "      <td>1</td>\n",
       "      <td>0</td>\n",
       "    </tr>\n",
       "    <tr>\n",
       "      <th>1</th>\n",
       "      <td>1</td>\n",
       "      <td>204</td>\n",
       "      <td>0</td>\n",
       "    </tr>\n",
       "    <tr>\n",
       "      <th>2</th>\n",
       "      <td>2</td>\n",
       "      <td>401</td>\n",
       "      <td>0</td>\n",
       "    </tr>\n",
       "    <tr>\n",
       "      <th>3</th>\n",
       "      <td>3</td>\n",
       "      <td>487</td>\n",
       "      <td>19</td>\n",
       "    </tr>\n",
       "    <tr>\n",
       "      <th>4</th>\n",
       "      <td>4</td>\n",
       "      <td>503</td>\n",
       "      <td>25</td>\n",
       "    </tr>\n",
       "    <tr>\n",
       "      <th>5</th>\n",
       "      <td>5</td>\n",
       "      <td>510</td>\n",
       "      <td>31</td>\n",
       "    </tr>\n",
       "    <tr>\n",
       "      <th>6</th>\n",
       "      <td>6</td>\n",
       "      <td>510</td>\n",
       "      <td>31</td>\n",
       "    </tr>\n",
       "    <tr>\n",
       "      <th>7</th>\n",
       "      <td>7</td>\n",
       "      <td>510</td>\n",
       "      <td>31</td>\n",
       "    </tr>\n",
       "    <tr>\n",
       "      <th>8</th>\n",
       "      <td>8</td>\n",
       "      <td>510</td>\n",
       "      <td>31</td>\n",
       "    </tr>\n",
       "    <tr>\n",
       "      <th>9</th>\n",
       "      <td>9</td>\n",
       "      <td>510</td>\n",
       "      <td>31</td>\n",
       "    </tr>\n",
       "    <tr>\n",
       "      <th>10</th>\n",
       "      <td>10</td>\n",
       "      <td>510</td>\n",
       "      <td>31</td>\n",
       "    </tr>\n",
       "    <tr>\n",
       "      <th>11</th>\n",
       "      <td>11</td>\n",
       "      <td>510</td>\n",
       "      <td>31</td>\n",
       "    </tr>\n",
       "    <tr>\n",
       "      <th>12</th>\n",
       "      <td>12</td>\n",
       "      <td>510</td>\n",
       "      <td>31</td>\n",
       "    </tr>\n",
       "    <tr>\n",
       "      <th>13</th>\n",
       "      <td>13</td>\n",
       "      <td>510</td>\n",
       "      <td>31</td>\n",
       "    </tr>\n",
       "    <tr>\n",
       "      <th>14</th>\n",
       "      <td>14</td>\n",
       "      <td>510</td>\n",
       "      <td>31</td>\n",
       "    </tr>\n",
       "    <tr>\n",
       "      <th>15</th>\n",
       "      <td>15</td>\n",
       "      <td>510</td>\n",
       "      <td>31</td>\n",
       "    </tr>\n",
       "    <tr>\n",
       "      <th>16</th>\n",
       "      <td>16</td>\n",
       "      <td>510</td>\n",
       "      <td>31</td>\n",
       "    </tr>\n",
       "    <tr>\n",
       "      <th>17</th>\n",
       "      <td>17</td>\n",
       "      <td>510</td>\n",
       "      <td>31</td>\n",
       "    </tr>\n",
       "    <tr>\n",
       "      <th>18</th>\n",
       "      <td>18</td>\n",
       "      <td>510</td>\n",
       "      <td>31</td>\n",
       "    </tr>\n",
       "    <tr>\n",
       "      <th>19</th>\n",
       "      <td>19</td>\n",
       "      <td>510</td>\n",
       "      <td>31</td>\n",
       "    </tr>\n",
       "  </tbody>\n",
       "</table>\n",
       "</div>"
      ],
      "text/plain": [
       "    length  reached_fluxes  reached_input\n",
       "0        0               1              0\n",
       "1        1             204              0\n",
       "2        2             401              0\n",
       "3        3             487             19\n",
       "4        4             503             25\n",
       "5        5             510             31\n",
       "6        6             510             31\n",
       "7        7             510             31\n",
       "8        8             510             31\n",
       "9        9             510             31\n",
       "10      10             510             31\n",
       "11      11             510             31\n",
       "12      12             510             31\n",
       "13      13             510             31\n",
       "14      14             510             31\n",
       "15      15             510             31\n",
       "16      16             510             31\n",
       "17      17             510             31\n",
       "18      18             510             31\n",
       "19      19             510             31"
      ]
     },
     "execution_count": 35,
     "metadata": {},
     "output_type": "execute_result"
    }
   ],
   "source": [
    "# Flux in a ball around ref\n",
    "flux_with_path_to_ref = []\n",
    "for length in range(max_power):\n",
    "    flux_distance_length = []\n",
    "    for i in range(Adj_power[length].shape[0]):\n",
    "        if Adj_power[length][i,424]!=0:\n",
    "            flux_distance_length.append(i)\n",
    "    flux_with_path_to_ref.append(flux_distance_length)\n",
    "\n",
    "\n",
    "\n",
    "length =[] \n",
    "reached_fluxes =[] \n",
    "input_reached_flux = []\n",
    "for k in range(len(flux_with_path_to_ref)):\n",
    "    length.append(k)\n",
    "    reached_fluxes.append(len(flux_with_path_to_ref[k]))\n",
    "    input_reached_flux.append(len([i for i in input_indices if i in flux_with_path_to_ref[k]]))\n",
    "\n",
    "import pandas as pd\n",
    "df = pd.DataFrame(data={\"length\" :length,\n",
    "                        \"reached_fluxes\" :reached_fluxes, \n",
    "                        \"reached_input\" : input_reached_flux})\n",
    "# df.to_csv(\"Flux_with_path_to_ref.csv\")\n",
    "df"
   ]
  },
  {
   "cell_type": "code",
   "execution_count": 36,
   "metadata": {},
   "outputs": [
    {
     "data": {
      "text/html": [
       "<div>\n",
       "<style scoped>\n",
       "    .dataframe tbody tr th:only-of-type {\n",
       "        vertical-align: middle;\n",
       "    }\n",
       "\n",
       "    .dataframe tbody tr th {\n",
       "        vertical-align: top;\n",
       "    }\n",
       "\n",
       "    .dataframe thead th {\n",
       "        text-align: right;\n",
       "    }\n",
       "</style>\n",
       "<table border=\"1\" class=\"dataframe\">\n",
       "  <thead>\n",
       "    <tr style=\"text-align: right;\">\n",
       "      <th></th>\n",
       "      <th>length</th>\n",
       "      <th>reached_fluxes</th>\n",
       "      <th>reached_input</th>\n",
       "    </tr>\n",
       "  </thead>\n",
       "  <tbody>\n",
       "    <tr>\n",
       "      <th>0</th>\n",
       "      <td>0</td>\n",
       "      <td>1</td>\n",
       "      <td>0</td>\n",
       "    </tr>\n",
       "    <tr>\n",
       "      <th>1</th>\n",
       "      <td>1</td>\n",
       "      <td>205</td>\n",
       "      <td>0</td>\n",
       "    </tr>\n",
       "    <tr>\n",
       "      <th>2</th>\n",
       "      <td>2</td>\n",
       "      <td>409</td>\n",
       "      <td>0</td>\n",
       "    </tr>\n",
       "    <tr>\n",
       "      <th>3</th>\n",
       "      <td>3</td>\n",
       "      <td>492</td>\n",
       "      <td>19</td>\n",
       "    </tr>\n",
       "    <tr>\n",
       "      <th>4</th>\n",
       "      <td>4</td>\n",
       "      <td>508</td>\n",
       "      <td>30</td>\n",
       "    </tr>\n",
       "    <tr>\n",
       "      <th>5</th>\n",
       "      <td>5</td>\n",
       "      <td>510</td>\n",
       "      <td>31</td>\n",
       "    </tr>\n",
       "    <tr>\n",
       "      <th>6</th>\n",
       "      <td>6</td>\n",
       "      <td>510</td>\n",
       "      <td>31</td>\n",
       "    </tr>\n",
       "    <tr>\n",
       "      <th>7</th>\n",
       "      <td>7</td>\n",
       "      <td>510</td>\n",
       "      <td>31</td>\n",
       "    </tr>\n",
       "    <tr>\n",
       "      <th>8</th>\n",
       "      <td>8</td>\n",
       "      <td>510</td>\n",
       "      <td>31</td>\n",
       "    </tr>\n",
       "    <tr>\n",
       "      <th>9</th>\n",
       "      <td>9</td>\n",
       "      <td>510</td>\n",
       "      <td>31</td>\n",
       "    </tr>\n",
       "    <tr>\n",
       "      <th>10</th>\n",
       "      <td>10</td>\n",
       "      <td>510</td>\n",
       "      <td>31</td>\n",
       "    </tr>\n",
       "    <tr>\n",
       "      <th>11</th>\n",
       "      <td>11</td>\n",
       "      <td>510</td>\n",
       "      <td>31</td>\n",
       "    </tr>\n",
       "    <tr>\n",
       "      <th>12</th>\n",
       "      <td>12</td>\n",
       "      <td>510</td>\n",
       "      <td>31</td>\n",
       "    </tr>\n",
       "    <tr>\n",
       "      <th>13</th>\n",
       "      <td>13</td>\n",
       "      <td>510</td>\n",
       "      <td>31</td>\n",
       "    </tr>\n",
       "    <tr>\n",
       "      <th>14</th>\n",
       "      <td>14</td>\n",
       "      <td>510</td>\n",
       "      <td>31</td>\n",
       "    </tr>\n",
       "    <tr>\n",
       "      <th>15</th>\n",
       "      <td>15</td>\n",
       "      <td>510</td>\n",
       "      <td>31</td>\n",
       "    </tr>\n",
       "    <tr>\n",
       "      <th>16</th>\n",
       "      <td>16</td>\n",
       "      <td>510</td>\n",
       "      <td>31</td>\n",
       "    </tr>\n",
       "    <tr>\n",
       "      <th>17</th>\n",
       "      <td>17</td>\n",
       "      <td>510</td>\n",
       "      <td>31</td>\n",
       "    </tr>\n",
       "    <tr>\n",
       "      <th>18</th>\n",
       "      <td>18</td>\n",
       "      <td>510</td>\n",
       "      <td>31</td>\n",
       "    </tr>\n",
       "    <tr>\n",
       "      <th>19</th>\n",
       "      <td>19</td>\n",
       "      <td>510</td>\n",
       "      <td>31</td>\n",
       "    </tr>\n",
       "  </tbody>\n",
       "</table>\n",
       "</div>"
      ],
      "text/plain": [
       "    length  reached_fluxes  reached_input\n",
       "0        0               1              0\n",
       "1        1             205              0\n",
       "2        2             409              0\n",
       "3        3             492             19\n",
       "4        4             508             30\n",
       "5        5             510             31\n",
       "6        6             510             31\n",
       "7        7             510             31\n",
       "8        8             510             31\n",
       "9        9             510             31\n",
       "10      10             510             31\n",
       "11      11             510             31\n",
       "12      12             510             31\n",
       "13      13             510             31\n",
       "14      14             510             31\n",
       "15      15             510             31\n",
       "16      16             510             31\n",
       "17      17             510             31\n",
       "18      18             510             31\n",
       "19      19             510             31"
      ]
     },
     "execution_count": 36,
     "metadata": {},
     "output_type": "execute_result"
    }
   ],
   "source": [
    "flux_with_path_to_ref_max_length = [[]]\n",
    "\n",
    "for k in range(len(flux_with_path_to_ref)):\n",
    "    old = flux_with_path_to_ref_max_length[k]\n",
    "    new = list(set(flux_with_path_to_ref_max_length[k] +flux_with_path_to_ref[k]))\n",
    "    flux_with_path_to_ref_max_length.append(new)\n",
    "               \n",
    "\n",
    "flux_with_path_to_ref_max_length[1:]\n",
    "\n",
    "\n",
    "\n",
    "length =[] \n",
    "reached_fluxes =[] \n",
    "input_reached_flux = []\n",
    "for k in range(len(flux_with_path_to_ref_max_length[1:])):\n",
    "    length.append(k)\n",
    "    reached_fluxes.append(len(flux_with_path_to_ref_max_length[1:][k]))\n",
    "    input_reached_flux.append(len([i for i in input_indices if i in flux_with_path_to_ref_max_length[1:][k]]))\n",
    "\n",
    "\n",
    "# [print(f) for f in flux_near_ref]\n",
    "# [print(f\"Length from output : {l}, number of fluxes : {len(n)} {len([i for i in input_indices if i in n])}\") for l,n in enumerate(flux_with_path_to_ref)]\n",
    "# print(\"Max number of flux reached :\", len(flux_distance_length))\n",
    "# print(\"Min number not reach fluxes :\", model.S.shape[1] - len(flux_distance_length))\n",
    "\n",
    "\n",
    "import pandas as pd\n",
    "df = pd.DataFrame(data={\"length\" :length,\n",
    "                        \"reached_fluxes\" :reached_fluxes, \n",
    "                        \"reached_input\" : input_reached_flux})\n",
    "# df.to_csv(\"Flux_with_path_to_ref.csv\")\n",
    "df"
   ]
  },
  {
   "cell_type": "markdown",
   "metadata": {},
   "source": [
    "What are the intersection of p-connected flux for p =1,2,3 "
   ]
  },
  {
   "cell_type": "code",
   "execution_count": 37,
   "metadata": {},
   "outputs": [
    {
     "data": {
      "image/png": "[encoded data removed]",
      "text/plain": [
       "<Figure size 200x200 with 1 Axes>"
      ]
     },
     "metadata": {},
     "output_type": "display_data"
    }
   ],
   "source": [
    "import matplotlib.pyplot as plt\n",
    "from matplotlib_venn import venn3\n",
    "from matplotlib_venn import venn3_circles\n",
    "\n",
    "s0 = set(flux_with_path_to_ref[0])\n",
    "s1 = set(flux_with_path_to_ref[1])\n",
    "s2 = set(flux_with_path_to_ref[2])\n",
    "s3 = set(flux_with_path_to_ref[3])\n",
    "\n",
    "venn3([s1,s2,s3],('length_1','length_2', 'length_3'))\n",
    "venn3_circles([s1,s2,s3],linestyle='dashed')\n",
    "\n",
    "plt.show()"
   ]
  },
  {
   "cell_type": "code",
   "execution_count": null,
   "metadata": {},
   "outputs": [],
   "source": [
    "[x for x in s2 if x not in s3]"
   ]
  },
  {
   "cell_type": "markdown",
   "metadata": {},
   "source": [
    "Visualization of W_r and V_0"
   ]
  },
  {
   "cell_type": "code",
   "execution_count": 15,
   "metadata": {},
   "outputs": [
    {
     "data": {
      "image/png": "[encoded data removed]",
      "text/plain": [
       "<Figure size 200x200 with 1 Axes>"
      ]
     },
     "metadata": {},
     "output_type": "display_data"
    }
   ],
   "source": [
    "import matplotlib.pyplot as plt\n",
    "plt.style.use('_mpl-gallery')\n",
    "\n",
    "# Used in AMNWt\n",
    "W_r_ = W_r[model.M2V_norm!=0]\n",
    "\n",
    "plt.plot(W_r_,\".\")\n",
    "plt.show()"
   ]
  },
  {
   "cell_type": "code",
   "execution_count": 16,
   "metadata": {},
   "outputs": [
    {
     "data": {
      "image/png": "[encoded data removed]",
      "text/plain": [
       "<Figure size 200x200 with 1 Axes>"
      ]
     },
     "metadata": {},
     "output_type": "display_data"
    }
   ],
   "source": [
    "# W_r_ = np.multiply(W_r,model.M2V_norm!=0)\n",
    "plt.plot(np.multiply(W_r,model.M2V_norm!=0).sum(axis=0),\".\")\n",
    "plt.show()"
   ]
  },
  {
   "cell_type": "code",
   "execution_count": 20,
   "metadata": {},
   "outputs": [
    {
     "data": {
      "image/png": "[encoded data removed]",
      "text/plain": [
       "<Figure size 200x200 with 1 Axes>"
      ]
     },
     "metadata": {},
     "output_type": "display_data"
    }
   ],
   "source": [
    "# W_r_ = np.multiply(W_r,model.M2V_norm!=0)\n",
    "plt.plot(np.multiply(W_r,model.M2V_norm!=0).sum(axis=0),\".\")\n",
    "plt.show()"
   ]
  },
  {
   "cell_type": "code",
   "execution_count": 73,
   "metadata": {},
   "outputs": [
    {
     "data": {
      "text/plain": [
       "<AxesSubplot:ylabel='Density'>"
      ]
     },
     "execution_count": 73,
     "metadata": {},
     "output_type": "execute_result"
    },
    {
     "data": {
      "image/png": "[encoded data removed]",
      "text/plain": [
       "<Figure size 200x200 with 1 Axes>"
      ]
     },
     "metadata": {},
     "output_type": "display_data"
    }
   ],
   "source": [
    "import seaborn as sns\n",
    "sns.rugplot(W_r_)\n",
    "sns.kdeplot(W_r_)"
   ]
  },
  {
   "cell_type": "code",
   "execution_count": 74,
   "metadata": {},
   "outputs": [
    {
     "data": {
      "image/png": "[encoded data removed]",
      "text/plain": [
       "<Figure size 200x200 with 1 Axes>"
      ]
     },
     "metadata": {},
     "output_type": "display_data"
    }
   ],
   "source": [
    "V_0_ = np.matmul(np.matmul(model.X_test[0],C) +b_i, model.P_uptake)\n",
    "\n",
    "plt.plot(V_0_[input_indices], \".\",)\n",
    "plt.show()"
   ]
  },
  {
   "cell_type": "code",
   "execution_count": 75,
   "metadata": {},
   "outputs": [
    {
     "data": {
      "image/png": "[encoded data removed]",
      "text/plain": [
       "<Figure size 200x200 with 1 Axes>"
      ]
     },
     "metadata": {},
     "output_type": "display_data"
    }
   ],
   "source": [
    "\n",
    "plt.plot(model.M2V_norm,\".\")\n",
    "plt.show()"
   ]
  },
  {
   "cell_type": "code",
   "execution_count": 95,
   "metadata": {},
   "outputs": [
    {
     "data": {
      "text/plain": [
       "6"
      ]
     },
     "execution_count": 95,
     "metadata": {},
     "output_type": "execute_result"
    }
   ],
   "source": [
    "(model.M2V_norm >100).sum()"
   ]
  },
  {
   "cell_type": "code",
   "execution_count": 106,
   "metadata": {},
   "outputs": [
    {
     "data": {
      "text/plain": [
       "array([ 40000.        ,  18181.81818182,  38461.53846154, 500000.        ,\n",
       "       142857.14285714,  10204.08163265])"
      ]
     },
     "execution_count": 106,
     "metadata": {},
     "output_type": "execute_result"
    }
   ],
   "source": [
    "model.M2V[model.M2V >10000]"
   ]
  },
  {
   "cell_type": "code",
   "execution_count": 131,
   "metadata": {},
   "outputs": [
    {
     "name": "stdout",
     "output_type": "stream",
     "text": [
      "40000.0\n",
      "18181.81818181818\n",
      "38461.53846153846\n",
      "500000.0\n",
      "142857.14285714287\n",
      "10204.081632653062\n"
     ]
    },
    {
     "data": {
      "text/plain": [
       "[(424, 467), (424, 664), (424, 811), (424, 830), (424, 872), (424, 1067)]"
      ]
     },
     "execution_count": 131,
     "metadata": {},
     "output_type": "execute_result"
    }
   ],
   "source": [
    "# All hudge values are link to the biomass flux (424)\n",
    "indices = []\n",
    "for i in range(model.M2V.shape[0]):\n",
    "    for j in range(model.M2V.shape[1]):\n",
    "        if model.M2V[i,j] > 10000:\n",
    "            indices.append((i,j))\n",
    "            print(model.M2V[i,j])\n",
    "\n",
    "indices"
   ]
  },
  {
   "cell_type": "code",
   "execution_count": null,
   "metadata": {},
   "outputs": [],
   "source": []
  },
  {
   "cell_type": "markdown",
   "metadata": {},
   "source": [
    "### Simple variant for AMNWt\n",
    "\n",
    "Implementation without Keras RNN structure. Is it quicker ?"
   ]
  },
  {
   "cell_type": "code",
   "execution_count": 1,
   "metadata": {},
   "outputs": [
    {
     "name": "stdout",
     "output_type": "stream",
     "text": [
      "number of metabolites:  1080\n",
      "filtered measurements size:  1\n",
      "dataset file: ../data/Dataset/iML1515_EXP_UB.npz\n",
      "model type: AMNWt\n",
      "model medium bound: UB\n",
      "timestep: 4\n",
      "training set size (110, 38) (110, 1)\n",
      "nbr hidden layer: 1\n",
      "hidden layer size: 500\n",
      "activation function: relu\n"
     ]
    },
    {
     "name": "stderr",
     "output_type": "stream",
     "text": [
      "2024-01-31 11:30:35.747897: I tensorflow/core/platform/cpu_feature_guard.cc:142] This TensorFlow binary is optimized with oneAPI Deep Neural Network Library (oneDNN) to use the following CPU instructions in performance-critical operations:  SSE4.1 SSE4.2 AVX AVX2 FMA\n",
      "To enable them in other operations, rebuild TensorFlow with the appropriate compiler flags.\n",
      "2024-01-31 11:30:35.749724: I tensorflow/core/common_runtime/process_util.cc:146] Creating new thread pool with default inter op setting: 2. Tune using inter_op_parallelism_threads for best performance.\n",
      "2024-01-31 11:30:35.891647: I tensorflow/compiler/mlir/mlir_graph_optimization_pass.cc:185] None of the MLIR Optimization Passes are enabled (registered 2)\n"
     ]
    },
    {
     "name": "stdout",
     "output_type": "stream",
     "text": [
      "R2 : 0.8159117119481836\n",
      "Q2 : 0.7140630572945016\n"
     ]
    }
   ],
   "source": [
    "import tensorflow as tf\n",
    "from amn.model import AMNWtModel\n",
    "from amn.model import AMNWtModel_\n",
    "from amn.model import LinearModel\n",
    "import numpy as np\n",
    "\n",
    "data_dir = \"../data\"\n",
    "seed = 10\n",
    "# np.random.seed(seed=seed)  \n",
    "tf.random.set_seed(seed)\n",
    "\n",
    "dataset_file = \"/Dataset/iML1515_EXP_UB.npz\"\n",
    "objective = [\"BIOMASS_Ec_iML1515_core_75p37M\"]\n",
    "epochs = 50 #100\n",
    "batch_size = 7\n",
    "uptake_max_index=None\n",
    "\n",
    "model = AMNWtModel_(dataset_file=data_dir + dataset_file, \n",
    "                   objective=objective,\n",
    "                   timestep=4,\n",
    "                   hidden_dim=500,\n",
    "                   verbose=True,\n",
    "                   uptake_max_index = uptake_max_index)\n",
    "model.printout()\n",
    "\n",
    "# Preprocessing\n",
    "from amn.tools import MaxScaler\n",
    "scaler= MaxScaler()\n",
    "model.train_test_split(test_size=0.1, random_state=seed)\n",
    "model.preprocess(scaler)\n",
    "model.preprocessing_for_specific_model()\n",
    "\n",
    "\n",
    "AMNWt_model = model.build_model()\n",
    "history = AMNWt_model.fit(model.X_train, model.Y_train, epochs=epochs, batch_size=batch_size, verbose=0)\n",
    "\n",
    "print(\"R2 :\", model.R2(model.Y_train, AMNWt_model.predict(model.X_train)))\n",
    "print(\"Q2 :\", model.R2(model.Y_test, AMNWt_model.predict(model.X_test)))"
   ]
  },
  {
   "cell_type": "markdown",
   "metadata": {},
   "source": [
    "Linear weights"
   ]
  },
  {
   "cell_type": "code",
   "execution_count": 2,
   "metadata": {},
   "outputs": [
    {
     "name": "stdout",
     "output_type": "stream",
     "text": [
      "number of metabolites:  1080\n",
      "filtered measurements size:  1\n",
      "dataset file: ../data/Dataset/iML1515_EXP_UB.npz\n",
      "model type: AMNWt\n",
      "model medium bound: UB\n",
      "timestep: 4\n",
      "training set size (110, 38) (110, 1)\n",
      "nbr hidden layer: 1\n",
      "hidden layer size: 500\n",
      "activation function: relu\n",
      "R2 : 0.8351647063255723\n",
      "Q2 : 0.6924364309962056\n"
     ]
    }
   ],
   "source": [
    "import tensorflow as tf\n",
    "from amn.model import AMNWtModel\n",
    "from amn.model import LinearModel\n",
    "\n",
    "data_dir = \"../data\"\n",
    "seed = 10\n",
    "# np.random.seed(seed=seed)  \n",
    "tf.random.set_seed(seed)\n",
    "\n",
    "dataset_file = \"/Dataset/iML1515_EXP_UB.npz\"\n",
    "objective = [\"BIOMASS_Ec_iML1515_core_75p37M\"]\n",
    "epochs = 700\n",
    "batch_size = 7\n",
    "uptake_max_index=None\n",
    "\n",
    "model = LinearModel(dataset_file=data_dir + dataset_file, \n",
    "                   objective=objective,\n",
    "                   timestep=4,\n",
    "                   hidden_dim=500,\n",
    "                   verbose=True,\n",
    "                   uptake_max_index = uptake_max_index)\n",
    "model.printout()\n",
    "\n",
    "# Preprocessing\n",
    "from amn.tools import MaxScaler\n",
    "scaler= MaxScaler()\n",
    "model.train_test_split(test_size=0.1, random_state=seed)\n",
    "model.preprocess(scaler)\n",
    "model.preprocessing_for_specific_model()\n",
    "\n",
    "\n",
    "AMNWt_model = model.build_model()\n",
    "history = AMNWt_model.fit(model.X_train, model.Y_train, epochs=epochs, batch_size=batch_size, verbose=0)\n",
    "\n",
    "print(\"R2 :\", model.R2(model.Y_train, AMNWt_model.predict(model.X_train)))\n",
    "print(\"Q2 :\", model.R2(model.Y_test, AMNWt_model.predict(model.X_test)))"
   ]
  },
  {
   "cell_type": "code",
   "execution_count": null,
   "metadata": {},
   "outputs": [],
   "source": []
  },
  {
   "cell_type": "code",
   "execution_count": null,
   "metadata": {},
   "outputs": [],
   "source": []
  },
  {
   "cell_type": "code",
   "execution_count": null,
   "metadata": {},
   "outputs": [],
   "source": []
  }
 ],
 "metadata": {
  "kernelspec": {
   "display_name": "amn",
   "language": "python",
   "name": "python3"
  },
  "language_info": {
   "codemirror_mode": {
    "name": "ipython",
    "version": 3
   },
   "file_extension": ".py",
   "mimetype": "text/x-python",
   "name": "python",
   "nbconvert_exporter": "python",
   "pygments_lexer": "ipython3",
   "version": "3.7.12"
  }
 },
 "nbformat": 4,
 "nbformat_minor": 2
}
